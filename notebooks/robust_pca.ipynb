{
 "metadata": {
  "language_info": {
   "codemirror_mode": {
    "name": "ipython",
    "version": 3
   },
   "file_extension": ".py",
   "mimetype": "text/x-python",
   "name": "python",
   "nbconvert_exporter": "python",
   "pygments_lexer": "ipython3",
   "version": "3.9.0"
  },
  "orig_nbformat": 2,
  "kernelspec": {
   "name": "pythonjvsc74a57bd0021a98ea87b511541f5b7e3321e243fe1acdbc3b1e71a9fa71ff09063aeac462",
   "display_name": "Python 3.9.0  ('.venv': venv)"
  },
  "metadata": {
   "interpreter": {
    "hash": "021a98ea87b511541f5b7e3321e243fe1acdbc3b1e71a9fa71ff09063aeac462"
   }
  }
 },
 "nbformat": 4,
 "nbformat_minor": 2,
 "cells": [
  {
   "source": [
    "じげんのじげんnじげんじげnじげじげっじげっmじげmじげじgじじへじhじじえじじえじえんじえnじえじじgじgへじghじgじjここじこjここげこげっこげっmこげmこげこgこk#nきそ基礎木曽起訴きそ来そ木曾木祖競木祖木曾来そきそ起訴木曽基礎きそきsきk木木戸城戸きどきdきknmmnmSVVP$$$＃＃＃＃さがしたいさがしたさがしtさがしさがshさがsさがさgさsw軸wじくwじくじkじじkじくじくw軸w軸wをsささgさがさがsさがshさがsさがshさがしさがしtさがしたさがしたい探したい\n",
    "<br/>\n",
    "<br/>\n",
    "\n",
    "<br/>\n",
    "\n",
    "＃＃＃＃## ＃＃＃＃さがしたいさがしたさがしtさがしさがshさがsさがさgさsw軸wじくwじくじkじjようnようよyよyなrなntさいだいさいださいdさいさsぶんさんがぶんさんgぶんさんぶんさnぶんさぶんsぶんぶnぶbbvbきnきkきnとkとtしゃえいしたしゃえいしtしゃえいししゃえいshしゃえいsしゃえいしゃえしゃshswwpwでーたでーtでーでdデーーたーtー０００た０t０ータのの「のnでーたでーtでーでdで０で０他で０たで０tで０でdもとのもとn\"ももくて"
   ],
   "cell_type": "markdown",
   "metadata": {}
  },
  {
   "cell_type": "code",
   "execution_count": 1,
   "metadata": {},
   "outputs": [],
   "source": []
  }
 ]
}